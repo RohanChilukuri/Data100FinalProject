{
 "cells": [
  {
   "cell_type": "code",
   "execution_count": 174,
   "metadata": {},
   "outputs": [],
   "source": [
    "import sys\n",
    "import pandas as pd\n",
    "import numpy as np\n",
    "import matplotlib as mpl\n",
    "import seaborn as sns\n",
    "import plotly"
   ]
  },
  {
   "cell_type": "code",
   "execution_count": 175,
   "metadata": {},
   "outputs": [
    {
     "output_type": "execute_result",
     "data": {
      "text/plain": "      wife_age  wife_education  husband_education  num_child  wife_religion  \\\n0           24               2                  3          3              1   \n1           45               1                  3         10              1   \n2           43               2                  3          7              1   \n3           42               3                  2          9              1   \n4           36               3                  3          8              1   \n...        ...             ...                ...        ...            ...   \n1468        33               4                  4          2              1   \n1469        33               4                  4          3              1   \n1470        39               3                  3          8              1   \n1471        33               3                  3          4              1   \n1472        17               3                  3          1              1   \n\n      wife_work  husband_occupation  standard_living  media_exposure  \\\n0             1                   2                3               0   \n1             1                   3                4               0   \n2             1                   3                4               0   \n3             1                   3                3               0   \n4             1                   3                2               0   \n...         ...                 ...              ...             ...   \n1468          0                   2                4               0   \n1469          1                   1                4               0   \n1470          0                   1                4               0   \n1471          0                   2                2               0   \n1472          1                   2                4               0   \n\n      contraceptive  \n0                 1  \n1                 1  \n2                 1  \n3                 1  \n4                 1  \n...             ...  \n1468              3  \n1469              3  \n1470              3  \n1471              3  \n1472              3  \n\n[1473 rows x 10 columns]",
      "text/html": "<div>\n<style scoped>\n    .dataframe tbody tr th:only-of-type {\n        vertical-align: middle;\n    }\n\n    .dataframe tbody tr th {\n        vertical-align: top;\n    }\n\n    .dataframe thead th {\n        text-align: right;\n    }\n</style>\n<table border=\"1\" class=\"dataframe\">\n  <thead>\n    <tr style=\"text-align: right;\">\n      <th></th>\n      <th>wife_age</th>\n      <th>wife_education</th>\n      <th>husband_education</th>\n      <th>num_child</th>\n      <th>wife_religion</th>\n      <th>wife_work</th>\n      <th>husband_occupation</th>\n      <th>standard_living</th>\n      <th>media_exposure</th>\n      <th>contraceptive</th>\n    </tr>\n  </thead>\n  <tbody>\n    <tr>\n      <th>0</th>\n      <td>24</td>\n      <td>2</td>\n      <td>3</td>\n      <td>3</td>\n      <td>1</td>\n      <td>1</td>\n      <td>2</td>\n      <td>3</td>\n      <td>0</td>\n      <td>1</td>\n    </tr>\n    <tr>\n      <th>1</th>\n      <td>45</td>\n      <td>1</td>\n      <td>3</td>\n      <td>10</td>\n      <td>1</td>\n      <td>1</td>\n      <td>3</td>\n      <td>4</td>\n      <td>0</td>\n      <td>1</td>\n    </tr>\n    <tr>\n      <th>2</th>\n      <td>43</td>\n      <td>2</td>\n      <td>3</td>\n      <td>7</td>\n      <td>1</td>\n      <td>1</td>\n      <td>3</td>\n      <td>4</td>\n      <td>0</td>\n      <td>1</td>\n    </tr>\n    <tr>\n      <th>3</th>\n      <td>42</td>\n      <td>3</td>\n      <td>2</td>\n      <td>9</td>\n      <td>1</td>\n      <td>1</td>\n      <td>3</td>\n      <td>3</td>\n      <td>0</td>\n      <td>1</td>\n    </tr>\n    <tr>\n      <th>4</th>\n      <td>36</td>\n      <td>3</td>\n      <td>3</td>\n      <td>8</td>\n      <td>1</td>\n      <td>1</td>\n      <td>3</td>\n      <td>2</td>\n      <td>0</td>\n      <td>1</td>\n    </tr>\n    <tr>\n      <th>...</th>\n      <td>...</td>\n      <td>...</td>\n      <td>...</td>\n      <td>...</td>\n      <td>...</td>\n      <td>...</td>\n      <td>...</td>\n      <td>...</td>\n      <td>...</td>\n      <td>...</td>\n    </tr>\n    <tr>\n      <th>1468</th>\n      <td>33</td>\n      <td>4</td>\n      <td>4</td>\n      <td>2</td>\n      <td>1</td>\n      <td>0</td>\n      <td>2</td>\n      <td>4</td>\n      <td>0</td>\n      <td>3</td>\n    </tr>\n    <tr>\n      <th>1469</th>\n      <td>33</td>\n      <td>4</td>\n      <td>4</td>\n      <td>3</td>\n      <td>1</td>\n      <td>1</td>\n      <td>1</td>\n      <td>4</td>\n      <td>0</td>\n      <td>3</td>\n    </tr>\n    <tr>\n      <th>1470</th>\n      <td>39</td>\n      <td>3</td>\n      <td>3</td>\n      <td>8</td>\n      <td>1</td>\n      <td>0</td>\n      <td>1</td>\n      <td>4</td>\n      <td>0</td>\n      <td>3</td>\n    </tr>\n    <tr>\n      <th>1471</th>\n      <td>33</td>\n      <td>3</td>\n      <td>3</td>\n      <td>4</td>\n      <td>1</td>\n      <td>0</td>\n      <td>2</td>\n      <td>2</td>\n      <td>0</td>\n      <td>3</td>\n    </tr>\n    <tr>\n      <th>1472</th>\n      <td>17</td>\n      <td>3</td>\n      <td>3</td>\n      <td>1</td>\n      <td>1</td>\n      <td>1</td>\n      <td>2</td>\n      <td>4</td>\n      <td>0</td>\n      <td>3</td>\n    </tr>\n  </tbody>\n</table>\n<p>1473 rows × 10 columns</p>\n</div>"
     },
     "metadata": {},
     "execution_count": 175
    }
   ],
   "source": [
    "contraceptive_data = pd.read_csv(\"contraceptive/contraceptive_for_students.csv\")\n",
    "contraceptive_data"
   ]
  },
  {
   "cell_type": "code",
   "execution_count": 176,
   "metadata": {
    "tags": [
     "outputPrepend"
    ]
   },
   "outputs": [],
   "source": [
    "# Data Cleaning\n",
    "from sklearn.feature_extraction import DictVectorizer\n",
    "valid_entries = {'wife_education':[1, 2, 3, 4],'husband_education':[1, 2, 3, 4], 'wife_religion':[0,1], 'wife_work':[0,1], 'husband_occupation':[1, 2, 3, 4], 'standard_living':[1, 2, 3, 4], 'media_exposure':[0,1], 'contraceptive':[1,2,3]}\n",
    "dummy_data = pd.DataFrame.from_dict({'wife_age':[0, 0, 0, 0], 'num_child':[0, 0, 0, 0], 'wife_education':[1, 2, 3, 4],'husband_education':[1, 2, 3, 4], 'wife_religion':[0,1, 0, 1], 'wife_work':[0, 1, 0, 1], 'husband_occupation':[1, 2, 3, 4], 'standard_living':[1, 2, 3, 4], 'media_exposure':[0 , 1, 0, 1]}) # For DictVectorizer\n",
    "\n",
    "def clean_data(dataset):\n",
    "    dataset = dataset.copy()\n",
    "    # Remove rows violating constraints\n",
    "    dataset = dataset.fillna(-1)\n",
    "    dataset = dataset.astype(int)\n",
    "    dataset = dataset[(dataset['wife_age']>=0)&(dataset['num_child']>=0)&(dataset['wife_education'].isin(valid_entries['wife_education']))&(dataset['husband_education'].isin(valid_entries['husband_education']))&(dataset['wife_religion'].isin(valid_entries['wife_religion']))&(dataset['wife_work'].isin(valid_entries['wife_work']))&(dataset['husband_occupation'].isin(valid_entries['husband_occupation']))&(dataset['standard_living'].isin(valid_entries['standard_living']))&(dataset['media_exposure'].isin(valid_entries['media_exposure']))&(dataset['contraceptive'].isin(valid_entries['contraceptive']))]\n",
    "    return dataset\n",
    "\n",
    "def split_x_y(dataset, response):\n",
    "    y = np.array(dataset[response])\n",
    "    x = dataset.drop(response, axis=1)\n",
    "    return (x, y)\n",
    "\n",
    "def one_hot_encode_column(dataset, column_name):\n",
    "    \"\"\"\n",
    "    One-hot-encoder\n",
    "    \"\"\"\n",
    "    dataset = dataset.copy()\n",
    "    vec_enc = DictVectorizer()\n",
    "    vec_enc.fit(dataset[[column_name]].to_dict(orient='records'))\n",
    "    ohe_data = vec_enc.transform(dataset[[column_name]].to_dict(orient='records')).toarray()\n",
    "    ohe_cats = vec_enc.get_feature_names()\n",
    "    ohe = pd.DataFrame(ohe_data, columns=ohe_cats)\n",
    "    dataset = pd.concat([dataset, ohe], axis=1)\n",
    "    dataset = dataset.drop(column_name, axis=1)\n",
    "    return dataset\n",
    "\n",
    "def one_hot_encode(dataset, columns, dummy=None):\n",
    "    # One-hot encode categorical variables\n",
    "    dataset = dataset.copy()\n",
    "    if dummy is not None:\n",
    "        dataset = dataset.append(dummy, ignore_index=True)\n",
    "    dataset[columns] = dataset[columns].astype(str)\n",
    "    for column in columns:\n",
    "        dataset = one_hot_encode_column(dataset, column)\n",
    "    if dummy is not None:\n",
    "        dataset = dataset.iloc[:len(dummy)]\n",
    "    return dataset\n",
    "\n",
    "def standardize(dataset, columns):\n",
    "    # Standardize numerical columns\n",
    "    dataset = dataset.copy()\n",
    "    for column in columns:\n",
    "        if dataset[column].std() > 0:\n",
    "            dataset[column]=(dataset[column]-dataset[column].mean())/dataset[column].std()\n",
    "    return dataset\n",
    "\n",
    "def process_data(dataset, ohe_columns, numerical_columns, response, dummy=None):\n",
    "    dataset = dataset.copy()\n",
    "    dataset = clean_data(dataset)\n",
    "    x, y = split_x_y(dataset, response)\n",
    "    x = standardize(x, numerical_columns)\n",
    "    x = one_hot_encode(x, ohe_columns)\n",
    "    return (x, y)"
   ]
  },
  {
   "cell_type": "code",
   "execution_count": 181,
   "metadata": {},
   "outputs": [],
   "source": [
    "# Data Splitting\n",
    "from sklearn.model_selection import train_test_split\n",
    "cleaned_data = clean_data(contraceptive_data) # Clean data, do not OHE or Standardize until modeling -> EDA first\n",
    "train, test = train_test_split(cleaned_data, test_size=0.1) # Work only with train data during EDA\n",
    "train, val = train_test_split(train, test_size=0.1)\n",
    "train = train.reset_index(drop=True)\n",
    "test = test.reset_index(drop=True)\n",
    "val = val.reset_index(drop=True)"
   ]
  },
  {
   "cell_type": "code",
   "execution_count": 182,
   "metadata": {},
   "outputs": [],
   "source": [
    "# Exploratory Data Analysis - Needs Work\n",
    "numerical = ['wife_age', 'num_child']\n",
    "categorical = ['wife_education', 'husband_education', 'wife_religion', 'wife_work', 'husband_occupation', 'standard_living', 'media_exposure']\n",
    "ordinal = ['wife_education', 'husband_education', 'standard_living']\n",
    "nominal = ['wife_religion', 'wife_work', 'husband_occupation', 'media_exposure']\n",
    "all_vars = numerical + categorical"
   ]
  },
  {
   "cell_type": "code",
   "execution_count": 183,
   "metadata": {},
   "outputs": [
    {
     "output_type": "stream",
     "name": "stdout",
     "text": "[0.5226510067114094, 0.962248322147651, 0.962248322147651, 0.5771812080536913, 0.6409395973154363]\n[0.5864661654135338, 0.518796992481203, 0.5112781954887218, 0.5413533834586466, 0.5639097744360902]\n"
    }
   ],
   "source": [
    "# Model Generation - classification task -> Logistic Regression CV, Decision Trees, Random Forest, more?\n",
    "from sklearn.linear_model import LogisticRegressionCV\n",
    "from sklearn.ensemble import RandomForestClassifier\n",
    "from sklearn.tree import DecisionTreeClassifier\n",
    "from sklearn.neighbors import KNeighborsClassifier\n",
    "from sklearn.svm import SVC\n",
    "from sklearn.model_selection import GridSearchCV\n",
    "x_train, y_train = process_data(train, categorical, numerical, 'contraceptive', dummy_data)\n",
    "logistic_model = LogisticRegressionCV(multi_class='ovr')\n",
    "logistic_model.fit(x_train, y_train)\n",
    "decisionTree_model = DecisionTreeClassifier()\n",
    "decisionTree_model.fit(x_train, y_train)\n",
    "randomForest_model = RandomForestClassifier()\n",
    "randomForest_model.fit(x_train, y_train)\n",
    "knn_model = KNeighborsClassifier()\n",
    "n_neighbors = {'n_neighbors':np.arange(1, 26)}\n",
    "knn_model_gscv = GridSearchCV(knn_model, n_neighbors, cv=5)\n",
    "knn_model_gscv.fit(x_train, y_train)\n",
    "svm_model = SVC()\n",
    "param_grid = {'C':np.linspace(1, 10, 25)}\n",
    "svm_model_gscv = GridSearchCV(svm_model, param_grid, cv=5)\n",
    "svm_model_gscv.fit(x_train, y_train)\n",
    "models = [logistic_model, decisionTree_model, randomForest_model, knn_model_gscv, svm_model_gscv]\n",
    "train_scores = [model.score(x_train, y_train) for model in models]\n",
    "print(train_scores)\n",
    "x_val, y_val = process_data(val, categorical, numerical, 'contraceptive', dummy_data)\n",
    "val_scores = [model.score(x_val, y_val) for model in models]\n",
    "print(val_scores)\n",
    "chosen_model = models[np.argmax(val_scores)]"
   ]
  },
  {
   "cell_type": "code",
   "execution_count": 184,
   "metadata": {},
   "outputs": [
    {
     "output_type": "execute_result",
     "data": {
      "text/plain": "0.5405405405405406"
     },
     "metadata": {},
     "execution_count": 184
    }
   ],
   "source": [
    "# Model Testing\n",
    "x_test, y_test = process_data(test, categorical, numerical, 'contraceptive', dummy_data)\n",
    "chosen_model.score(x_test, y_test)"
   ]
  },
  {
   "cell_type": "code",
   "execution_count": null,
   "metadata": {},
   "outputs": [],
   "source": [
    "# Interpret Results"
   ]
  }
 ],
 "metadata": {
  "language_info": {
   "codemirror_mode": {
    "name": "ipython",
    "version": 2
   },
   "file_extension": ".py",
   "mimetype": "text/x-python",
   "name": "python",
   "nbconvert_exporter": "python",
   "pygments_lexer": "ipython2",
   "version": "3.7.6-final"
  },
  "orig_nbformat": 2,
  "kernelspec": {
   "name": "python37664bit59e31c4d6f6045f5b1fbf31c40e19a56",
   "display_name": "Python 3.7.6 64-bit"
  }
 },
 "nbformat": 4,
 "nbformat_minor": 2
}